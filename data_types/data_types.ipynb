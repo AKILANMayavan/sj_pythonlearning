{
 "cells": [
  {
   "cell_type": "code",
   "execution_count": 1,
   "metadata": {
    "collapsed": true
   },
   "outputs": [
    {
     "name": "stdout",
     "output_type": "stream",
     "text": [
      "Income is 10000\n<class 'int'>\n"
     ]
    }
   ],
   "source": [
    "# Commenting\n",
    "# Notes on data types\n",
    "# Data Types - string, float, int\n",
    "# create string variable\n",
    "\n",
    "# Datatype - Integer\n",
    "\n",
    "income = 10000\n",
    "\n",
    "print(\"Income is \"+str(income))\n",
    "\n",
    "# type of variable - class\n",
    "print(type(income))"
   ]
  },
  {
   "cell_type": "code",
   "execution_count": null,
   "metadata": {},
   "outputs": [],
   "source": []
  }
 ],
 "metadata": {
  "kernelspec": {
   "display_name": "Python 2",
   "language": "python",
   "name": "python2"
  },
  "language_info": {
   "codemirror_mode": {
    "name": "ipython",
    "version": 2
   },
   "file_extension": ".py",
   "mimetype": "text/x-python",
   "name": "python",
   "nbconvert_exporter": "python",
   "pygments_lexer": "ipython2",
   "version": "2.7.6"
  }
 },
 "nbformat": 4,
 "nbformat_minor": 0
}
